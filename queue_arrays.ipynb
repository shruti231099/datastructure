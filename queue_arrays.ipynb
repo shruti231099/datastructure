{
  "nbformat": 4,
  "nbformat_minor": 0,
  "metadata": {
    "colab": {
      "name": "queue-arrays.ipynb",
      "provenance": [],
      "include_colab_link": true
    },
    "kernelspec": {
      "name": "python3",
      "display_name": "Python 3"
    }
  },
  "cells": [
    {
      "cell_type": "markdown",
      "metadata": {
        "id": "view-in-github",
        "colab_type": "text"
      },
      "source": [
        "<a href=\"https://colab.research.google.com/github/shruti231099/datastructure/blob/main/queue_arrays.ipynb\" target=\"_parent\"><img src=\"https://colab.research.google.com/assets/colab-badge.svg\" alt=\"Open In Colab\"/></a>"
      ]
    },
    {
      "cell_type": "code",
      "metadata": {
        "id": "LR1wjn2tdvFX"
      },
      "source": [
        "class Queue:\n",
        "\n",
        "  def __init__(self, size):\n",
        "\n",
        "    self.size = size\n",
        "    self.queue = [None] * self.size\n",
        "    self.front = -1\n",
        "    self.rear = -1\n",
        "\n",
        "  def enqueue(self,value):\n",
        "\n",
        "    if self.rear == self.size - 1:\n",
        "      return \"Queue full\"\n",
        "    else:\n",
        "      self.rear += 1\n",
        "      self.queue[self.rear] = value\n",
        "\n",
        "  def front_item(self):\n",
        "    if self.front == self.rear:\n",
        "      return \"Empty\"\n",
        "    else:\n",
        "      return self.queue[self.front + 1]\n",
        "\n",
        "  def rear_item(self):\n",
        "    if self.front == self.rear:\n",
        "      return \"Empty\"\n",
        "    else:\n",
        "      return self.queue[self.rear]\n",
        "\n",
        "    \n",
        "\n",
        "  def dequeue(self):\n",
        "\n",
        "    if self.rear == self.front:\n",
        "      return \"Queue empty\"\n",
        "    else:\n",
        "      self.front += 1\n",
        "      if self.rear == self.front:\n",
        "        self.rear = -1\n",
        "        self.front = -1\n",
        "\n",
        "  def traverse(self):\n",
        "\n",
        "    for i in range(self.front + 1, self.rear + 1):\n",
        "      print(self.queue[i], end=' ')\n",
        "\n",
        "  "
      ],
      "execution_count": null,
      "outputs": []
    },
    {
      "cell_type": "code",
      "metadata": {
        "id": "IJ_edij1eDMT"
      },
      "source": [
        "q = Queue(3)"
      ],
      "execution_count": null,
      "outputs": []
    },
    {
      "cell_type": "code",
      "metadata": {
        "colab": {
          "base_uri": "https://localhost:8080/"
        },
        "id": "SkXVsvjTeHKR",
        "outputId": "9e9fb3be-be9f-44f7-8f65-41eb647a1251"
      },
      "source": [
        "q.queue"
      ],
      "execution_count": null,
      "outputs": [
        {
          "output_type": "execute_result",
          "data": {
            "text/plain": [
              "[6, 7, 8]"
            ]
          },
          "metadata": {
            "tags": []
          },
          "execution_count": 44
        }
      ]
    },
    {
      "cell_type": "code",
      "metadata": {
        "id": "qHMrTZw7eKG9"
      },
      "source": [
        "q.enqueue(6)\n",
        "q.enqueue(7)\n",
        "q.enqueue(8)"
      ],
      "execution_count": null,
      "outputs": []
    },
    {
      "cell_type": "code",
      "metadata": {
        "colab": {
          "base_uri": "https://localhost:8080/"
        },
        "id": "w7nEl4GXeeX2",
        "outputId": "0f3530dd-29f0-4787-e879-78bd1a5f42cb"
      },
      "source": [
        "q.traverse()"
      ],
      "execution_count": null,
      "outputs": [
        {
          "output_type": "stream",
          "text": [
            "7 8 "
          ],
          "name": "stdout"
        }
      ]
    },
    {
      "cell_type": "code",
      "metadata": {
        "colab": {
          "base_uri": "https://localhost:8080/"
        },
        "id": "OM34PUv9fftS",
        "outputId": "6ac5b8d2-5dc2-4cb5-a3ca-de9a1458ea55"
      },
      "source": [
        "q.front_item()"
      ],
      "execution_count": null,
      "outputs": [
        {
          "output_type": "execute_result",
          "data": {
            "text/plain": [
              "7"
            ]
          },
          "metadata": {
            "tags": []
          },
          "execution_count": 32
        }
      ]
    },
    {
      "cell_type": "code",
      "metadata": {
        "id": "_aJAJwObfijV"
      },
      "source": [
        "q.dequeue()"
      ],
      "execution_count": null,
      "outputs": []
    },
    {
      "cell_type": "code",
      "metadata": {
        "colab": {
          "base_uri": "https://localhost:8080/"
        },
        "id": "vUF7bbfWfkR4",
        "outputId": "996f3ed2-53df-4be5-e121-9b39cc569d44"
      },
      "source": [
        "q.rear_item()"
      ],
      "execution_count": null,
      "outputs": [
        {
          "output_type": "execute_result",
          "data": {
            "text/plain": [
              "8"
            ]
          },
          "metadata": {
            "tags": []
          },
          "execution_count": 39
        }
      ]
    },
    {
      "cell_type": "code",
      "metadata": {
        "colab": {
          "base_uri": "https://localhost:8080/",
          "height": 35
        },
        "id": "fcC0JnVpgJOA",
        "outputId": "b0b03252-618b-4d77-9a4c-f0d0d780fba6"
      },
      "source": [
        "q.enqueue(9)"
      ],
      "execution_count": null,
      "outputs": [
        {
          "output_type": "execute_result",
          "data": {
            "application/vnd.google.colaboratory.intrinsic+json": {
              "type": "string"
            },
            "text/plain": [
              "'Queue full'"
            ]
          },
          "metadata": {
            "tags": []
          },
          "execution_count": 80
        }
      ]
    },
    {
      "cell_type": "code",
      "metadata": {
        "colab": {
          "base_uri": "https://localhost:8080/",
          "height": 35
        },
        "id": "d9DY1hazgsAn",
        "outputId": "a3d379f5-7cce-44e3-9bab-8a1610638ae8"
      },
      "source": [
        "q.enqueue(5)"
      ],
      "execution_count": null,
      "outputs": [
        {
          "output_type": "execute_result",
          "data": {
            "application/vnd.google.colaboratory.intrinsic+json": {
              "type": "string"
            },
            "text/plain": [
              "'Queue full'"
            ]
          },
          "metadata": {
            "tags": []
          },
          "execution_count": 86
        }
      ]
    },
    {
      "cell_type": "code",
      "metadata": {
        "id": "mMWM3NO605F-"
      },
      "source": [
        ""
      ],
      "execution_count": null,
      "outputs": []
    }
  ]
}