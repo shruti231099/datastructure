{
  "nbformat": 4,
  "nbformat_minor": 0,
  "metadata": {
    "colab": {
      "name": "Copy of queue-using-ll.ipynb",
      "provenance": [],
      "include_colab_link": true
    },
    "kernelspec": {
      "name": "python3",
      "display_name": "Python 3"
    }
  },
  "cells": [
    {
      "cell_type": "markdown",
      "metadata": {
        "id": "view-in-github",
        "colab_type": "text"
      },
      "source": [
        "<a href=\"https://colab.research.google.com/github/shruti231099/datastructure/blob/main/Copy_of_queue_using_ll.ipynb\" target=\"_parent\"><img src=\"https://colab.research.google.com/assets/colab-badge.svg\" alt=\"Open In Colab\"/></a>"
      ]
    },
    {
      "cell_type": "code",
      "metadata": {
        "id": "HBcG-cuGlQY8"
      },
      "source": [
        "class Node:\n",
        " \n",
        "  def __init__(self,value):\n",
        "    self.data = value\n",
        "    self.next = None"
      ],
      "execution_count": null,
      "outputs": []
    },
    {
      "cell_type": "code",
      "metadata": {
        "id": "YW5HO9g5lb1r"
      },
      "source": [
        "class Queue:\n",
        " \n",
        "  def __init__(self):\n",
        "    self.front = None\n",
        "    self.rear = None\n",
        " \n",
        "  def enqueue(self,value):\n",
        " \n",
        "    new_node = Node(value)\n",
        " \n",
        "    if self.rear == None:\n",
        "      self.front = new_node\n",
        "      self.rear = self.front\n",
        "    else:\n",
        "      self.rear.next = new_node\n",
        "      self.rear = new_node\n",
        " \n",
        "  def dequeue(self):\n",
        " \n",
        "    if self.front == None:\n",
        "      return \"Empty\"\n",
        "    else:\n",
        "      self.front = self.front.next\n",
        " \n",
        "  def is_empty(self):\n",
        "    return self.front == None\n",
        " \n",
        "  def size(self):\n",
        "    temp = self.front\n",
        "    counter=0\n",
        " \n",
        "    while temp != None:\n",
        "      counter+=1\n",
        "      temp = temp.next\n",
        " \n",
        "    return counter\n",
        " \n",
        "  def front_item(self):\n",
        "    if self.front == None:\n",
        "      return \"empty\"\n",
        "    else:\n",
        "      return self.front.data\n",
        " \n",
        "  def rear_item(self):\n",
        "    if self.front == None:\n",
        "      return \"empty\"\n",
        "    else:\n",
        "      return self.rear.data\n",
        " \n",
        "  def traverse(self):\n",
        " \n",
        "    temp = self.front\n",
        " \n",
        "    while temp != None:\n",
        "      print(temp.data,end=' ')\n",
        "      temp = temp.next"
      ],
      "execution_count": null,
      "outputs": []
    },
    {
      "cell_type": "code",
      "metadata": {
        "id": "rWGdSgpqnOiN"
      },
      "source": [
        "q = Queue()"
      ],
      "execution_count": null,
      "outputs": []
    },
    {
      "cell_type": "code",
      "metadata": {
        "id": "sCNByJGvnQZb"
      },
      "source": [
        "q.enqueue(4)\n",
        "q.enqueue(5)\n",
        "q.enqueue(7)"
      ],
      "execution_count": null,
      "outputs": []
    },
    {
      "cell_type": "code",
      "metadata": {
        "colab": {
          "base_uri": "https://localhost:8080/"
        },
        "id": "0_pLGM_VnVAO",
        "outputId": "b5e7bfbd-7dd4-41da-c2d6-04292d4d081c"
      },
      "source": [
        "q.traverse()"
      ],
      "execution_count": null,
      "outputs": [
        {
          "output_type": "stream",
          "text": [
            "4 5 7 "
          ],
          "name": "stdout"
        }
      ]
    },
    {
      "cell_type": "code",
      "metadata": {
        "colab": {
          "base_uri": "https://localhost:8080/",
          "height": 35
        },
        "id": "1Y91uyxnnYIm",
        "outputId": "a7bf2f65-5c90-413a-dcfc-53eccaac23bc"
      },
      "source": [
        "q.dequeue()"
      ],
      "execution_count": null,
      "outputs": [
        {
          "output_type": "execute_result",
          "data": {
            "application/vnd.google.colaboratory.intrinsic+json": {
              "type": "string"
            },
            "text/plain": [
              "'Empty'"
            ]
          },
          "metadata": {
            "tags": []
          },
          "execution_count": 16
        }
      ]
    },
    {
      "cell_type": "code",
      "metadata": {
        "colab": {
          "base_uri": "https://localhost:8080/"
        },
        "id": "ERlZbEELndob",
        "outputId": "e46c99ee-ef6c-46ba-80c0-36735df73ef6"
      },
      "source": [
        "q.is_empty()"
      ],
      "execution_count": null,
      "outputs": [
        {
          "output_type": "execute_result",
          "data": {
            "text/plain": [
              "True"
            ]
          },
          "metadata": {
            "tags": []
          },
          "execution_count": 20
        }
      ]
    },
    {
      "cell_type": "code",
      "metadata": {
        "colab": {
          "base_uri": "https://localhost:8080/"
        },
        "id": "5X4BdnUXoQ3O",
        "outputId": "69e069ac-6e32-4659-aca5-193b184fd761"
      },
      "source": [
        "q.front_item()"
      ],
      "execution_count": null,
      "outputs": [
        {
          "output_type": "execute_result",
          "data": {
            "text/plain": [
              "4"
            ]
          },
          "metadata": {
            "tags": []
          },
          "execution_count": 25
        }
      ]
    },
    {
      "cell_type": "code",
      "metadata": {
        "colab": {
          "base_uri": "https://localhost:8080/"
        },
        "id": "8ESWRfe4oTfi",
        "outputId": "4dfb17c8-205a-48e6-a26b-997eb71a581b"
      },
      "source": [
        "q.rear_item()"
      ],
      "execution_count": null,
      "outputs": [
        {
          "output_type": "execute_result",
          "data": {
            "text/plain": [
              "7"
            ]
          },
          "metadata": {
            "tags": []
          },
          "execution_count": 26
        }
      ]
    },
    {
      "cell_type": "code",
      "metadata": {
        "id": "qjKSYV2SoVPW"
      },
      "source": [
        ""
      ],
      "execution_count": null,
      "outputs": []
    }
  ]
}